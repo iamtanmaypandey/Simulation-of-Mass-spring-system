{
  "nbformat": 4,
  "nbformat_minor": 0,
  "metadata": {
    "colab": {
      "provenance": []
    },
    "kernelspec": {
      "name": "python3",
      "display_name": "Python 3"
    },
    "language_info": {
      "name": "python"
    }
  },
  "cells": [
    {
      "cell_type": "markdown",
      "source": [
        "# ***4.* Recurrent network of nonlinear springs and masses**"
      ],
      "metadata": {
        "id": "yCqu7RSxHW8X"
      }
    },
    {
      "cell_type": "markdown",
      "source": [
        "## *4.1* **Implementation of the recurrent networks of non-linear springs and masses**"
      ],
      "metadata": {
        "id": "P7FNJ0yoHscj"
      }
    },
    {
      "cell_type": "markdown",
      "source": [
        "### *4.1.1* Constructing mass-spring networks"
      ],
      "metadata": {
        "id": "RDU9X-tZH3zP"
      }
    },
    {
      "cell_type": "markdown",
      "source": [
        "Importing Libraries"
      ],
      "metadata": {
        "id": "S61rj2ylIDIw"
      }
    },
    {
      "cell_type": "code",
      "source": [
        "import matplotlib.pyplot as plt\n",
        "import numpy as np\n",
        "from scipy.spatial import Delaunay\n",
        "import random\n",
        "import math\n",
        "import matplotlib.cm as cm"
      ],
      "metadata": {
        "id": "-QzYmpxPIErj"
      },
      "execution_count": 372,
      "outputs": []
    },
    {
      "cell_type": "markdown",
      "source": [
        "Having a dictionary to contain all the inital setups"
      ],
      "metadata": {
        "id": "Em_Xejw3Qehp"
      }
    },
    {
      "cell_type": "code",
      "source": [
        "init_dict = dict()"
      ],
      "metadata": {
        "id": "2l1Frv94Qhs3"
      },
      "execution_count": 373,
      "outputs": []
    },
    {
      "cell_type": "markdown",
      "source": [
        "Setting up\n",
        "\n",
        "1.   number of nodes (N)\n",
        "2.   limits of x and y coordinates\n",
        "\n"
      ],
      "metadata": {
        "id": "ZirXxAHHIQST"
      }
    },
    {
      "cell_type": "code",
      "source": [
        "init_dict['nodes'] = 10 #Number of masses\n",
        "init_dict['x_lim'] = [0,10]\n",
        "init_dict['y_lim'] = [0,10]"
      ],
      "metadata": {
        "id": "AIRPfJHsQxMk"
      },
      "execution_count": 374,
      "outputs": []
    },
    {
      "cell_type": "markdown",
      "source": [
        "Setting up the spring parameter ranges"
      ],
      "metadata": {
        "id": "9GjTPBbBRLdC"
      }
    },
    {
      "cell_type": "code",
      "source": [
        "init_dict['k_range'] = np.array([[100, 200], [1, 10]])\n",
        "init_dict['d_range'] = np.array([[100, 200], [1, 10]])"
      ],
      "metadata": {
        "id": "7OfgHPNORQhl"
      },
      "execution_count": 375,
      "outputs": []
    },
    {
      "cell_type": "markdown",
      "source": [
        "Setting up weight parameters"
      ],
      "metadata": {
        "id": "Huy0ctOeSlk-"
      }
    },
    {
      "cell_type": "code",
      "source": [
        "init_dict['w_out_range'] = [-1, 1]\n",
        "init_dict['w_feedback_range'] = [-1, 1]\n",
        "init_dict['w_input_range'] = [-1 ,1]"
      ],
      "metadata": {
        "id": "KRvfLct1SnbC"
      },
      "execution_count": 376,
      "outputs": []
    },
    {
      "cell_type": "markdown",
      "source": [
        "Feedback parameters"
      ],
      "metadata": {
        "id": "1qTbt36wTDtC"
      }
    },
    {
      "cell_type": "code",
      "source": [
        "init_dict['fb_conn'] = 0 #Feedback connectivity"
      ],
      "metadata": {
        "id": "3Aj8yNDPTd2x"
      },
      "execution_count": 377,
      "outputs": []
    },
    {
      "cell_type": "markdown",
      "source": [
        "Number of inputs and outputs"
      ],
      "metadata": {
        "id": "tIGUX-arTlih"
      }
    },
    {
      "cell_type": "code",
      "source": [
        "init_dict['nInput'] = 1\n",
        "init_dict['input_percentage'] = 0.2 #percentage of input connectivity nodes\n",
        "init_dict['nOutput'] = 1\n",
        "init_dict['out_conn'] = 1 #1 = 100% of nodes"
      ],
      "metadata": {
        "id": "GYM634hrTnb6"
      },
      "execution_count": 378,
      "outputs": []
    },
    {
      "cell_type": "markdown",
      "source": [
        "Initializing time_steps and steps to show (show_steps)"
      ],
      "metadata": {
        "id": "ekeiV_Y0UDbM"
      }
    },
    {
      "cell_type": "code",
      "source": [
        "init_dict['time_step'] = 0.001 # time_step = 1 ms = 0.001 s\n",
        "init_dict['show_steps'] = 1000 # to show the simulation progress at every 1000 steps"
      ],
      "metadata": {
        "id": "LXIMDYD4UKFd"
      },
      "execution_count": 379,
      "outputs": []
    },
    {
      "cell_type": "markdown",
      "source": [
        "Also defining the readout type we want"
      ],
      "metadata": {
        "id": "oyVGzNKR_Jhx"
      }
    },
    {
      "cell_type": "code",
      "source": [
        "init_dict['readout_type'] = 'LENGTHS'"
      ],
      "metadata": {
        "id": "ifPOg5Hg_LXn"
      },
      "execution_count": 380,
      "outputs": []
    },
    {
      "cell_type": "markdown",
      "source": [
        "Printing the initial dictionary we defined"
      ],
      "metadata": {
        "id": "oDRBnBvtUbdi"
      }
    },
    {
      "cell_type": "code",
      "source": [
        "init_dict"
      ],
      "metadata": {
        "colab": {
          "base_uri": "https://localhost:8080/"
        },
        "id": "3zYlbSc3Uh6R",
        "outputId": "5cc3b0ff-8f63-4a30-b730-ed75c80c5ca8"
      },
      "execution_count": 381,
      "outputs": [
        {
          "output_type": "execute_result",
          "data": {
            "text/plain": [
              "{'nodes': 10,\n",
              " 'x_lim': [0, 10],\n",
              " 'y_lim': [0, 10],\n",
              " 'k_range': array([[100, 200],\n",
              "        [  1,  10]]),\n",
              " 'd_range': array([[100, 200],\n",
              "        [  1,  10]]),\n",
              " 'w_out_range': [-1, 1],\n",
              " 'w_feedback_range': [-1, 1],\n",
              " 'w_input_range': [-1, 1],\n",
              " 'fb_conn': 0,\n",
              " 'nInput': 1,\n",
              " 'input_percentage': 0.2,\n",
              " 'nOutput': 1,\n",
              " 'out_conn': 1,\n",
              " 'time_step': 0.001,\n",
              " 'show_steps': 1000,\n",
              " 'readout_type': 'LENGTHS'}"
            ]
          },
          "metadata": {},
          "execution_count": 381
        }
      ]
    },
    {
      "cell_type": "markdown",
      "source": [
        "Setting up acceleration function ( d(x_2)/dx ) and x2"
      ],
      "metadata": {
        "id": "SlA3RrCzVs8Q"
      }
    },
    {
      "cell_type": "code",
      "source": [
        "class x_accln:\n",
        "  def __init__(self, x1,x2,k1,k3,d1,d3,u):\n",
        "    self.accl = -1*(self.p(k1,k3,x1)) - self.q(d1,d3,x2) + u\n",
        "  def p(k1,k3,x1):\n",
        "    return k3*(x1**3) + k1*x1\n",
        "  def q(d1,d3,x2):\n",
        "    return d3*(x2**3) + d1*x2"
      ],
      "metadata": {
        "id": "Psf1wx4lV3JX"
      },
      "execution_count": 382,
      "outputs": []
    },
    {
      "cell_type": "markdown",
      "source": [
        "Now since we have initialized the parameters, we will build up the net of spring_mass system now"
      ],
      "metadata": {
        "id": "UHSb0Dp3VCxp"
      }
    },
    {
      "cell_type": "markdown",
      "source": [
        "So, first we define a dictionary called net, which will have our initialized data and also the informations about the points."
      ],
      "metadata": {
        "id": "kXNXLAfqYGvj"
      }
    },
    {
      "cell_type": "code",
      "source": [
        "net = dict()\n",
        "\n",
        "net['init_data'] = init_dict\n",
        "num = init_dict['nodes']\n",
        "\n",
        "net['P'] = dict()"
      ],
      "metadata": {
        "id": "lWoBJcy7Vg7N"
      },
      "execution_count": 383,
      "outputs": []
    },
    {
      "cell_type": "markdown",
      "source": [
        "Random initialization of point states and forces"
      ],
      "metadata": {
        "id": "5avOVjqxYTT5"
      }
    },
    {
      "cell_type": "code",
      "source": [
        "net['P']['states'] = np.column_stack([\n",
        "      np.random.uniform(init_dict['x_lim'][0], init_dict['x_lim'][1], num),\n",
        "      np.random.uniform(init_dict['y_lim'][0], init_dict['y_lim'][1], num),\n",
        "      np.zeros(num),\n",
        "      np.zeros(num)\n",
        "  ])\n",
        "net['P']['force'] = np.zeros((num, 2)) #The forces with Fx and Fy\n",
        "net['P']['fixed'] = np.zeros(num) # 0 if the nodes are not fixed, and we update it to 1 if they are fixed"
      ],
      "metadata": {
        "id": "5xrKwgraYUpM"
      },
      "execution_count": 384,
      "outputs": []
    },
    {
      "cell_type": "markdown",
      "source": [],
      "metadata": {
        "id": "HH1iAgqdbdhX"
      }
    },
    {
      "cell_type": "markdown",
      "source": [
        "Saving initial position and velocities of P"
      ],
      "metadata": {
        "id": "qDPVweH8bdnT"
      }
    },
    {
      "cell_type": "code",
      "source": [
        "net['init_data']['P'] = net['P']"
      ],
      "metadata": {
        "id": "PErYqPNcbZ4b"
      },
      "execution_count": 385,
      "outputs": []
    },
    {
      "cell_type": "markdown",
      "source": [
        "Fixing the leftmost and rightmost point such that our net remains stable"
      ],
      "metadata": {
        "id": "b3qZSUmCbuSy"
      }
    },
    {
      "cell_type": "code",
      "source": [
        "#Finding the rightmost (argmax) and leftmost (argmin) points\n",
        "\n",
        "min_idx = np.argmin(net['P']['states'][:, 0])\n",
        "max_idx = np.argmax(net['P']['states'][:, 0])\n",
        "\n",
        "#Putting 1 at the points position, representing that it is fixed\n",
        "\n",
        "net['P']['fixed'][min_idx] = 1\n",
        "net['P']['fixed'][max_idx] = 1"
      ],
      "metadata": {
        "id": "V5R_PtFYby4G"
      },
      "execution_count": 386,
      "outputs": []
    },
    {
      "cell_type": "markdown",
      "source": [
        "Since, we have the points (nodes) now, so, we have to do **Delaunay triangulation** such that no two spring connections should overlap each other."
      ],
      "metadata": {
        "id": "Jr-NPar0cflV"
      }
    },
    {
      "cell_type": "code",
      "source": [
        "tri = Delaunay(net['P']['states'][:, :2])\n",
        "net['init_data']['tri'] = tri"
      ],
      "metadata": {
        "id": "bGYrX7Vgcpee"
      },
      "execution_count": 387,
      "outputs": []
    },
    {
      "cell_type": "markdown",
      "source": [
        "Sorting the triangulation is used to ensure that the triangles are processed in a specific order. Specifically, the np.sort function sorts the simplices (i.e., the triangles) in the triangulation along the second dimension, which corresponds to the nodes of each simplex.\n",
        "This is necessary to ensure that the connections between adjacent triangles are processed correctly in the subsequent code."
      ],
      "metadata": {
        "id": "VyQuMy2Vd7rE"
      }
    },
    {
      "cell_type": "code",
      "source": [
        "tri_s = np.sort(tri.simplices, axis=1)  #sorting the triangulation (Delaunay  matrix)"
      ],
      "metadata": {
        "id": "VRDCdMxFd-Bn"
      },
      "execution_count": 388,
      "outputs": []
    },
    {
      "cell_type": "markdown",
      "source": [
        "Making an array to put which node is connected to which node"
      ],
      "metadata": {
        "id": "uM7aNGd1hiep"
      }
    },
    {
      "cell_type": "code",
      "source": [
        "R = np.zeros((net['init_data']['nodes'], net['init_data']['nodes'])) #shape  = (nodes,nodes), for N = 10 shape = (10,10)"
      ],
      "metadata": {
        "id": "KkYk3tTnhnWY"
      },
      "execution_count": 389,
      "outputs": []
    },
    {
      "cell_type": "code",
      "source": [
        "for i in range(tri.simplices.shape[0]):\n",
        "\n",
        "    # Putting connection between element 1 --> 2\n",
        "    from_ = tri_s[i, 0]\n",
        "    to_ = tri_s[i, 1]\n",
        "    R[from_, to_] = 1\n",
        "\n",
        "    # Putting connection between element 2 --> 3\n",
        "    from_ = tri_s[i, 1]\n",
        "    to_ = tri_s[i, 2]\n",
        "    R[from_, to_] = 1\n",
        "\n",
        "    # Putting connection between element 1 --> 3\n",
        "    from_ = tri_s[i, 0]\n",
        "    to_ = tri_s[i, 2]\n",
        "    R[from_, to_] = 1"
      ],
      "metadata": {
        "id": "OatUo9YpggQ7"
      },
      "execution_count": 390,
      "outputs": []
    },
    {
      "cell_type": "markdown",
      "source": [
        "Now, we will choose the spring constants and damping constant from an exponential distribution, so we need to define a function that does that"
      ],
      "metadata": {
        "id": "1XzP5yM-lh2A"
      }
    },
    {
      "cell_type": "code",
      "source": [
        "def random_exp(range_,a=None):\n",
        "  #a : int or array-like, optional :The size of the output array. If not provided, returns a single random value.\n",
        "\n",
        "  lo, up = range_[0], range_[1]\n",
        "  if a is None:\n",
        "    n = (up - lo)*random.random() + lo\n",
        "  else:\n",
        "        if len(range_) == 2:\n",
        "            lo, up = np.log10(lo), np.log10(up)\n",
        "        n = np.power(10, (up-lo)*np.random.sample(size=a) + lo)\n",
        "  return n"
      ],
      "metadata": {
        "id": "cRwmUcAxloIr"
      },
      "execution_count": 391,
      "outputs": []
    },
    {
      "cell_type": "code",
      "source": [
        "w_num = int(np.sum(R))"
      ],
      "metadata": {
        "id": "yUtmqQPjpk3i"
      },
      "execution_count": 392,
      "outputs": []
    },
    {
      "cell_type": "code",
      "source": [
        "net['W'] = dict()\n",
        "net['W']['from'] = np.zeros(w_num)\n",
        "net['W']['to'] = np.zeros(w_num)"
      ],
      "metadata": {
        "id": "RM7OmWW0qmHe"
      },
      "execution_count": 393,
      "outputs": []
    },
    {
      "cell_type": "code",
      "source": [
        "net['W']['k1'] = random_exp([init_dict['k_range'][0, 0], init_dict['k_range'][0, 1]], w_num)\n",
        "net['W']['k3'] = random_exp([init_dict['k_range'][1, 0], init_dict['k_range'][1, 1]], w_num)\n",
        "net['W']['d1'] = random_exp([init_dict['d_range'][0, 0], init_dict['d_range'][0, 1]], w_num)\n",
        "net['W']['d3'] = random_exp([init_dict['d_range'][1, 0], init_dict['d_range'][1, 1]], w_num)"
      ],
      "metadata": {
        "id": "I-tGjrbpqtxA"
      },
      "execution_count": 394,
      "outputs": []
    },
    {
      "cell_type": "markdown",
      "source": [
        "Defining the lo and old distance arrays"
      ],
      "metadata": {
        "id": "uLLARFAM3inj"
      }
    },
    {
      "cell_type": "code",
      "source": [
        "net['W']['l0'] = np.zeros(w_num) #same size as number of connections\n",
        "net['W']['dist_old'] = np.zeros(w_num) #same size as number of connections"
      ],
      "metadata": {
        "id": "8efQrqiixZHg"
      },
      "execution_count": 395,
      "outputs": []
    },
    {
      "cell_type": "markdown",
      "source": [
        "So, we go for each node number say a1, and check if there is a connection with other node say a2. If exist, then put a1 in from and a2 in to, and calculate eucledian distance between them. For that we have to define eucledian distance function"
      ],
      "metadata": {
        "id": "cegJwQnz3mUG"
      }
    },
    {
      "cell_type": "code",
      "source": [
        "def e_distance(p1, p2):\n",
        "    d = np.sqrt((p2[0] - p1[0]) ** 2 + (p2[1] - p1[1]) ** 2)\n",
        "\n",
        "    if d == 0:\n",
        "       norm_dir = np.zeros_like(p1)\n",
        "    else:\n",
        "        norm_dir = (p2 - p1) / d\n",
        "\n",
        "    return d, norm_dir"
      ],
      "metadata": {
        "id": "C8_424dp4UH-"
      },
      "execution_count": 396,
      "outputs": []
    },
    {
      "cell_type": "markdown",
      "source": [
        "Now, we go onto define the weights of inputs"
      ],
      "metadata": {
        "id": "5GHf6erg-USS"
      }
    },
    {
      "cell_type": "code",
      "source": [
        "w_idx = 0\n",
        "for i in range(init_dict['nodes']):\n",
        "    for j in range(init_dict['nodes']):\n",
        "        if R[i, j] == 1:\n",
        "            net['W']['from'][w_idx] = i\n",
        "            net['W']['to'][w_idx] = j\n",
        "            p1 =net['P']['states'][i, :2]\n",
        "            p2 =net['P']['states'][j,:2]\n",
        "            net['W']['l0'][w_idx] = e_distance(p1,p2)[0]\n",
        "            w_idx += 1\n",
        "\n",
        "net['W']['dist_old'][:] = net['W']['l0'][:]"
      ],
      "metadata": {
        "id": "8-WxViLExtI4"
      },
      "execution_count": 397,
      "outputs": []
    },
    {
      "cell_type": "markdown",
      "source": [
        "Now we go onto define the input connections"
      ],
      "metadata": {
        "id": "yeXVzULn61Xh"
      }
    },
    {
      "cell_type": "code",
      "source": [
        "net['W_in'] = np.zeros((init_dict['nodes'], init_dict['nInput']))\n",
        "nmax = int(init_dict['nodes'] * init_dict['nInput'])\n",
        "\n",
        "for nI in range(d['nInput']):\n",
        "    Idx = np.random.permutation(init_dict['nodes'])[:nmax]\n",
        "    net['W_in'][Idx, nI] = np.random.uniform(init_dict['w_input_range'][0], init_dict['w_input_range'][1], nmax)"
      ],
      "metadata": {
        "id": "9hFHz3xg68WK"
      },
      "execution_count": 398,
      "outputs": []
    },
    {
      "cell_type": "markdown",
      "source": [
        "Check for input vs. fixed points"
      ],
      "metadata": {
        "id": "Y7GsLmr38i27"
      }
    },
    {
      "cell_type": "code",
      "source": [
        "for i in range(init_dict['nodes']):\n",
        "    if net['P']['fixed'][i] == 1:\n",
        "        net['W_in'][i, 0] = 0"
      ],
      "metadata": {
        "id": "SWQfiNYc8hPm"
      },
      "execution_count": 406,
      "outputs": []
    },
    {
      "cell_type": "markdown",
      "source": [
        "Now, there may exist a feedback in the system, so we may also define weights for that."
      ],
      "metadata": {
        "id": "soK30B04-Li9"
      }
    },
    {
      "cell_type": "code",
      "source": [
        "net['W_fb'] = np.zeros((init_dict['nodes'], init_dict['nOutput']))\n",
        "nmax = int(np.ceil(init_dict['nodes'] * init_dict['fb_conn']))\n",
        "\n",
        "for nI in range(init_dict['nOutput']):\n",
        "    Idx = np.random.permutation(init_dict['nodes'])\n",
        "    Idx = Idx[:nmax]\n",
        "    net['W_fb'][Idx, nI] = np.random.uniform(init_dict['w_feedback_range'][0], init_dict['w_feedback_range'][1], nmax)"
      ],
      "metadata": {
        "id": "DJR2KBtm9Xfg"
      },
      "execution_count": 400,
      "outputs": []
    },
    {
      "cell_type": "markdown",
      "source": [
        "So, now we further proceed to define the output system"
      ],
      "metadata": {
        "id": "4zb25aS2-8Ag"
      }
    },
    {
      "cell_type": "markdown",
      "source": [
        "First we define a function used to get random number in range"
      ],
      "metadata": {
        "id": "JqNC5sEICTNI"
      }
    },
    {
      "cell_type": "code",
      "source": [
        "def rand_in_range(range_val, a=None):\n",
        "    \"\"\"\n",
        "    Returns random values within a given range.\n",
        "\n",
        "    Args:\n",
        "    range_val (list): [lower, upper] bound\n",
        "    a (int, optional): Either a scalar or vector with the needed size\n",
        "\n",
        "    Returns:\n",
        "    float or numpy.ndarray: Either one random value or a column vector of random values with size a\n",
        "    \"\"\"\n",
        "    up = range_val[1]\n",
        "    lo = range_val[0]\n",
        "\n",
        "    if a is None:\n",
        "        n = (up-lo)*np.random.random_sample + lo\n",
        "    else:\n",
        "        n = (up-lo)*np.random.random_sample(size=a)+lo\n",
        "    return n"
      ],
      "metadata": {
        "id": "MiNWsvlbCXUZ"
      },
      "execution_count": 401,
      "outputs": []
    },
    {
      "cell_type": "markdown",
      "source": [
        "Now the readout type could be Positions or the lengths, we define it for both"
      ],
      "metadata": {
        "id": "zpUzxnMnE7Ri"
      }
    },
    {
      "cell_type": "code",
      "source": [
        "if init_dict['readout_type'] == 'POSITIONS':\n",
        "    net['W_out'] = np.zeros((init_dict['nodes'], init_dict['nOutput']))\n",
        "    nmax = int(np.ceil(init_dict['nodes'] * init_dict['out_conn']))\n",
        "    for nO in range(init_dict['nOutput']):\n",
        "        Odx = np.random.permutation(init_dict['nodes'])\n",
        "        Odx = Odx[:nmax]\n",
        "        net['W_out'][Odx, nO] = rand_in_range(init_dict['w_out_range'], a=nmax)\n",
        "\n",
        "elif init_dict['readout_type'] == 'LENGTHS':\n",
        "    w_num = len(net['W']['l0'])\n",
        "    net['W_out'] = np.zeros((w_num, init_dict['nOutput']))\n",
        "    nmax = int(np.ceil(w_num * init_dict['out_conn']))\n",
        "\n",
        "    for nO in range(init_dict['nOutput']):\n",
        "        Odx = np.random.permutation(w_num)\n",
        "        Odx = Odx[:nmax]\n",
        "        net['W_out'][Odx, nO] = rand_in_range(init_dict['w_out_range'], a=nmax)\n",
        "\n",
        "else:\n",
        "    print('ERROR - unknown output chosen')\n",
        "\n",
        "net['readout_type'] = init_dict['readout_type']"
      ],
      "metadata": {
        "id": "if0o5A27_AJV"
      },
      "execution_count": 402,
      "outputs": []
    },
    {
      "cell_type": "markdown",
      "source": [
        "Now, let us put the indices of fixed points, input nodes and output nodes in net dictionary"
      ],
      "metadata": {
        "id": "4b6-tlYnFBJ-"
      }
    },
    {
      "cell_type": "code",
      "source": [
        "net['fixed_idx'] = np.where(net['P']['fixed'] == 1)[0]\n",
        "net['input_idx'] = np.where(np.sum(net['W_in'], axis=1) != 0)[0]\n",
        "net['output_idx'] = np.where(np.sum(net['W_out'], axis=1) != 0)[0]\n"
      ],
      "metadata": {
        "id": "UkEbsoP8FSev"
      },
      "execution_count": 411,
      "outputs": []
    },
    {
      "cell_type": "code",
      "source": [
        "net"
      ],
      "metadata": {
        "colab": {
          "base_uri": "https://localhost:8080/"
        },
        "id": "YxBH1mAbbgEY",
        "outputId": "437635f2-b349-49ef-f196-b8de79bc8459"
      },
      "execution_count": 408,
      "outputs": [
        {
          "output_type": "execute_result",
          "data": {
            "text/plain": [
              "{'init_data': {'nodes': 10,\n",
              "  'x_lim': [0, 10],\n",
              "  'y_lim': [0, 10],\n",
              "  'k_range': array([[100, 200],\n",
              "         [  1,  10]]),\n",
              "  'd_range': array([[100, 200],\n",
              "         [  1,  10]]),\n",
              "  'w_out_range': [-1, 1],\n",
              "  'w_feedback_range': [-1, 1],\n",
              "  'w_input_range': [-1, 1],\n",
              "  'fb_conn': 0,\n",
              "  'nInput': 1,\n",
              "  'input_percentage': 0.2,\n",
              "  'nOutput': 1,\n",
              "  'out_conn': 1,\n",
              "  'time_step': 0.001,\n",
              "  'show_steps': 1000,\n",
              "  'readout_type': 'LENGTHS',\n",
              "  'P': {'states': array([[3.12396054, 5.9345055 , 0.        , 0.        ],\n",
              "          [2.13624593, 9.62547778, 0.        , 0.        ],\n",
              "          [9.34820893, 3.56863815, 0.        , 0.        ],\n",
              "          [7.77310077, 2.35846493, 0.        , 0.        ],\n",
              "          [9.13712821, 6.01094914, 0.        , 0.        ],\n",
              "          [2.98770515, 8.48692137, 0.        , 0.        ],\n",
              "          [3.05157295, 7.14529106, 0.        , 0.        ],\n",
              "          [4.35138145, 8.49331975, 0.        , 0.        ],\n",
              "          [8.18903101, 1.09617614, 0.        , 0.        ],\n",
              "          [6.13667148, 9.881218  , 0.        , 0.        ]]),\n",
              "   'force': array([[0., 0.],\n",
              "          [0., 0.],\n",
              "          [0., 0.],\n",
              "          [0., 0.],\n",
              "          [0., 0.],\n",
              "          [0., 0.],\n",
              "          [0., 0.],\n",
              "          [0., 0.],\n",
              "          [0., 0.],\n",
              "          [0., 0.]]),\n",
              "   'fixed': array([0., 1., 1., 0., 0., 0., 0., 0., 0., 0.])},\n",
              "  'tri': <scipy.spatial._qhull.Delaunay at 0x7e8a39434c70>},\n",
              " 'P': {'states': array([[3.12396054, 5.9345055 , 0.        , 0.        ],\n",
              "         [2.13624593, 9.62547778, 0.        , 0.        ],\n",
              "         [9.34820893, 3.56863815, 0.        , 0.        ],\n",
              "         [7.77310077, 2.35846493, 0.        , 0.        ],\n",
              "         [9.13712821, 6.01094914, 0.        , 0.        ],\n",
              "         [2.98770515, 8.48692137, 0.        , 0.        ],\n",
              "         [3.05157295, 7.14529106, 0.        , 0.        ],\n",
              "         [4.35138145, 8.49331975, 0.        , 0.        ],\n",
              "         [8.18903101, 1.09617614, 0.        , 0.        ],\n",
              "         [6.13667148, 9.881218  , 0.        , 0.        ]]),\n",
              "  'force': array([[0., 0.],\n",
              "         [0., 0.],\n",
              "         [0., 0.],\n",
              "         [0., 0.],\n",
              "         [0., 0.],\n",
              "         [0., 0.],\n",
              "         [0., 0.],\n",
              "         [0., 0.],\n",
              "         [0., 0.],\n",
              "         [0., 0.]]),\n",
              "  'fixed': array([0., 1., 1., 0., 0., 0., 0., 0., 0., 0.])},\n",
              " 'W': {'from': array([0., 0., 0., 0., 0., 0., 1., 1., 1., 1., 2., 2., 2., 3., 3., 4., 4.,\n",
              "         5., 5., 6., 7.]),\n",
              "  'to': array([1., 3., 4., 6., 7., 8., 5., 6., 7., 9., 3., 4., 8., 4., 8., 7., 9.,\n",
              "         6., 7., 7., 9.]),\n",
              "  'k1': array([100.1240277 , 120.48149478, 125.65733206, 150.83666935,\n",
              "         120.55472453, 164.68094142, 134.83536958, 121.88460094,\n",
              "         107.7005681 , 178.2165339 , 174.44856453, 127.51453429,\n",
              "         117.97063933, 102.42751898, 118.11829533, 122.30977164,\n",
              "         106.38713257, 120.30972054, 176.18429463, 182.41858062,\n",
              "         110.01593931]),\n",
              "  'k3': array([4.68658284, 2.96878915, 3.7945748 , 6.4442067 , 1.81019373,\n",
              "         9.60514378, 1.32080439, 5.41735552, 2.42891363, 3.98219876,\n",
              "         2.02723488, 4.30657727, 2.99615865, 1.2887622 , 7.19826038,\n",
              "         9.06405391, 9.93435002, 9.59818087, 2.05930821, 1.07572303,\n",
              "         1.31556797]),\n",
              "  'd1': array([135.56264938, 160.77713944, 170.34722965, 133.34381064,\n",
              "         113.08650529, 149.92944287, 182.14414776, 140.33533262,\n",
              "         110.77263741, 130.02568985, 192.11983704, 188.48056073,\n",
              "         140.23173292, 100.52046966, 154.2524289 , 149.5161658 ,\n",
              "         121.87660677, 187.15122389, 175.32086959, 132.58170356,\n",
              "         115.11277155]),\n",
              "  'd3': array([4.61135698, 7.10930421, 1.84113533, 5.8679388 , 8.90977688,\n",
              "         5.64578004, 4.57829453, 7.80764427, 3.40413883, 4.86519294,\n",
              "         1.73853213, 7.12003363, 3.71953112, 2.78617184, 1.97224477,\n",
              "         4.32860697, 1.55491708, 2.02943468, 1.50859446, 2.30174837,\n",
              "         9.97884476]),\n",
              "  'l0': array([3.820845  , 5.86537049, 6.01365355, 1.21294749, 2.8379733 ,\n",
              "         7.00459633, 1.42172202, 2.6437    , 2.48769113, 4.00859173,\n",
              "         1.98632448, 2.45141552, 2.73070721, 3.89887314, 1.32904889,\n",
              "         5.39124623, 4.8971136 , 1.34314966, 1.3636913 , 1.87261408,\n",
              "         2.26130981]),\n",
              "  'dist_old': array([3.820845  , 5.86537049, 6.01365355, 1.21294749, 2.8379733 ,\n",
              "         7.00459633, 1.42172202, 2.6437    , 2.48769113, 4.00859173,\n",
              "         1.98632448, 2.45141552, 2.73070721, 3.89887314, 1.32904889,\n",
              "         5.39124623, 4.8971136 , 1.34314966, 1.3636913 , 1.87261408,\n",
              "         2.26130981])},\n",
              " 'W_in': array([[-0.10577146],\n",
              "        [ 0.        ],\n",
              "        [ 0.        ],\n",
              "        [-0.60738081],\n",
              "        [ 0.5339929 ],\n",
              "        [ 0.10801065],\n",
              "        [-0.32869452],\n",
              "        [-0.17991621],\n",
              "        [-0.86927992],\n",
              "        [ 0.61819652]]),\n",
              " 'W_fb': array([[0.],\n",
              "        [0.],\n",
              "        [0.],\n",
              "        [0.],\n",
              "        [0.],\n",
              "        [0.],\n",
              "        [0.],\n",
              "        [0.],\n",
              "        [0.],\n",
              "        [0.]]),\n",
              " 'W_out': array([[ 0.82922603],\n",
              "        [ 0.87697347],\n",
              "        [ 0.41154209],\n",
              "        [ 0.86905378],\n",
              "        [ 0.39892053],\n",
              "        [ 0.71866742],\n",
              "        [-0.0243428 ],\n",
              "        [ 0.49681561],\n",
              "        [ 0.291732  ],\n",
              "        [ 0.08190543],\n",
              "        [-0.00986312],\n",
              "        [ 0.31474453],\n",
              "        [-0.7736015 ],\n",
              "        [ 0.90964688],\n",
              "        [ 0.75675502],\n",
              "        [-0.4358643 ],\n",
              "        [ 0.19360061],\n",
              "        [ 0.12945873],\n",
              "        [ 0.83913931],\n",
              "        [ 0.14792073],\n",
              "        [-0.87987781]]),\n",
              " 'readout_type': 'LENGTHS',\n",
              " 'fixed_idx': array([1, 2]),\n",
              " 'input_idx': array([0, 3, 4, 5, 6, 7, 8, 9]),\n",
              " 'output_idx': array([ 0,  1,  2,  3,  4,  5,  6,  7,  8,  9, 10, 11, 12, 13, 14, 15, 16,\n",
              "        17, 18, 19, 20])}"
            ]
          },
          "metadata": {},
          "execution_count": 408
        }
      ]
    },
    {
      "cell_type": "markdown",
      "source": [
        "Now let us plot the graph"
      ],
      "metadata": {
        "id": "l5ohZL44GYBQ"
      }
    },
    {
      "cell_type": "code",
      "source": [
        "MARKERSIZE = 15\n",
        "LINEWIDTH = 1\n",
        "colored = True\n",
        "\n",
        "fig, ax = plt.subplots()\n",
        "ax.set_position([0, 0, 1, 1])\n",
        "ax.set_aspect('equal')\n",
        "\n",
        "ax.plot(net['P']['states'][:, 0], net['P']['states'][:, 1], 'o',\n",
        "        markerfacecolor=[1, 1, 1], markeredgecolor='k', linewidth=LINEWIDTH, markersize=MARKERSIZE)\n",
        "\n",
        "if colored:\n",
        "    cmap = cm.get_cmap('jet')\n",
        "    max_k = np.max(net['W']['k1'])\n",
        "    min_k = np.min(net['W']['k1'])\n",
        "    steepness = (64 - 1) / (max_k - min_k)\n",
        "    offset = 1 - steepness * min_k\n",
        "\n",
        "    for idx in range(len(net['W']['from'])):\n",
        "        col = cmap(np.ceil(steepness * (net['W']['k1'][idx] + offset)))\n",
        "        from_node = net['W']['from'][idx]\n",
        "        to_node = net['W']['to'][idx]\n",
        "        from_node , to_node = int(from_node), int(to_node)\n",
        "        ax.plot([net['P']['states'][from_node, 0], net['P']['states'][to_node, 0]],\n",
        "                [net['P']['states'][from_node, 1], net['P']['states'][to_node, 1]],\n",
        "                color=col, linewidth=3)\n",
        "else:\n",
        "    px = net['P']['states'][:, 0]\n",
        "    py = net['P']['states'][:, 1]\n",
        "    from_node = net['W']['from']\n",
        "    to_node = net['W']['to']\n",
        "\n",
        "    for i in range(len(net['W']['from'])):\n",
        "        ax.plot([px[from_node[i]], px[to_node[i]]],\n",
        "                [py[from_node[i]], py[to_node[i]]], '-k', linewidth=LINEWIDTH)\n",
        "\n",
        "    ax.plot(net['P']['states'][:, 0], net['P']['states'][:, 1], 'o',\n",
        "            markerfacecolor=[1, 1, 1], markeredgecolor='k', linewidth=LINEWIDTH, markersize=MARKERSIZE)\n",
        "\n",
        "ax.plot(net['P']['states'][net['fixed_idx'], 0], net['P']['states'][net['fixed_idx'], 1], 's',\n",
        "        markerfacecolor='r', markeredgecolor='k', linewidth=LINEWIDTH, markersize=MARKERSIZE + 1)\n",
        "\n",
        "ax.plot(net['P']['states'][net['input_idx'], 0], net['P']['states'][net['input_idx'], 1], 'o',\n",
        "        markerfacecolor='g', markeredgecolor='k', linewidth=LINEWIDTH, markersize=MARKERSIZE)\n",
        "\n",
        "if net['readout_type'] == 'POSITIONS':\n",
        "    ax.plot(net['P']['states'][net['output_idx'], 0], net['P']['states'][net['output_idx'], 1], 'om', linewidth=10)\n",
        "\n",
        "if np.max(np.abs(net['W_fb'])) > 0 and net['W_fb'].shape[1] == 2:\n",
        "    feedback_1_idx = np.setdiff1d(np.where(np.abs(net['W_fb'][:, 0]) > 0), net['fixed_idx'])\n",
        "    feedback_2_idx = np.setdiff1d(np.where(np.abs(net['W_fb'][:, 1]) > 0), net['fixed_idx'])\n",
        "    fb_color_1 = [0, 1, 1]\n",
        "    fb_color_2 = [1, 0, 1]\n",
        "\n",
        "    ax.plot(net['P']['states'][feedback_1_idx, 0], net['P']['states'][feedback_1_idx, 1], 'o',\n",
        "            markerfacecolor=fb_color_1, markeredgecolor='k', linewidth=LINEWIDTH, markersize=MARKERSIZE)\n",
        "\n",
        "    ax.plot(net['P']['states'][feedback_2_idx, 0], net['P']['states'][feedback_2_idx, 1], 'o',\n",
        "            markerfacecolor=fb_color_2, markeredgecolor='k', linewidth=LINEWIDTH, markersize=MARKERSIZE)\n",
        "\n",
        "ax.set_xlim(net['init_data']['x_lim'][0] * (1 - 0.1), net['init_data']['x_lim'][1] * (1 + 0.1))\n",
        "ax.set_ylim(net['init_data']['y_lim'][0] * (1 - 0.1), net['init_data']['y_lim'][1] * (1 + 0.1))\n",
        "\n",
        "ax.set_xlabel('x-dimension')\n",
        "ax.set_ylabel('y-dimension')\n",
        "ax.set_title('The graph of spring-mass system')\n",
        "plt.show()"
      ],
      "metadata": {
        "colab": {
          "base_uri": "https://localhost:8080/",
          "height": 637
        },
        "id": "DAIR3nLSGZjs",
        "outputId": "e9b75027-a6c1-45f2-cfa6-8ee80148be85"
      },
      "execution_count": 414,
      "outputs": [
        {
          "output_type": "stream",
          "name": "stderr",
          "text": [
            "<ipython-input-414-4770fd2c441e>:13: MatplotlibDeprecationWarning: The get_cmap function was deprecated in Matplotlib 3.7 and will be removed two minor releases later. Use ``matplotlib.colormaps[name]`` or ``matplotlib.colormaps.get_cmap(obj)`` instead.\n",
            "  cmap = cm.get_cmap('jet')\n"
          ]
        },
        {
          "output_type": "display_data",
          "data": {
            "text/plain": [
              "<Figure size 640x480 with 1 Axes>"
            ],
            "image/png": "[encoded data removed]"
          },
          "metadata": {}
        }
      ]
    }
  ]
}